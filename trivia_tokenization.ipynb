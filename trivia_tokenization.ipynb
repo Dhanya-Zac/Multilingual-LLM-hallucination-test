{
  "nbformat": 4,
  "nbformat_minor": 0,
  "metadata": {
    "colab": {
      "provenance": [],
      "authorship_tag": "ABX9TyNmoMOUiUMC1WKTYOvgyjHj",
      "include_colab_link": true
    },
    "kernelspec": {
      "name": "python3",
      "display_name": "Python 3"
    },
    "language_info": {
      "name": "python"
    }
  },
  "cells": [
    {
      "cell_type": "markdown",
      "metadata": {
        "id": "view-in-github",
        "colab_type": "text"
      },
      "source": [
        "<a href=\"https://colab.research.google.com/github/Dhanya-Zac/Multilingual-LLM-hallucination-test/blob/main/trivia_tokenization.ipynb\" target=\"_parent\"><img src=\"https://colab.research.google.com/assets/colab-badge.svg\" alt=\"Open In Colab\"/></a>"
      ]
    },
    {
      "cell_type": "code",
      "source": [
        "import os\n",
        "import json\n",
        "import random\n",
        "import datasets\n",
        "import torch\n",
        "from transformers import AutoTokenizer, AutoModelForCausalLM, set_seed, GenerationConfig\n",
        "import csv\n"
      ],
      "metadata": {
        "id": "WZ9MK2bZkJ1m"
      },
      "execution_count": null,
      "outputs": []
    },
    {
      "cell_type": "code",
      "source": [
        "from google.colab import files"
      ],
      "metadata": {
        "id": "0jUKSpCzlLej"
      },
      "execution_count": null,
      "outputs": []
    },
    {
      "cell_type": "code",
      "source": [
        "!pip install safetensors\n"
      ],
      "metadata": {
        "id": "JjwNcA3skUZx",
        "collapsed": true
      },
      "execution_count": null,
      "outputs": []
    },
    {
      "cell_type": "code",
      "source": [
        "!pip install -q transformers datasets accelerate"
      ],
      "metadata": {
        "id": "fsze81WTkOBS"
      },
      "execution_count": null,
      "outputs": []
    },
    {
      "cell_type": "code",
      "source": [
        "\n",
        "device = torch.device(\"cuda\" if torch.cuda.is_available() else \"cpu\")\n"
      ],
      "metadata": {
        "id": "bES9Q2p8keUi"
      },
      "execution_count": null,
      "outputs": []
    },
    {
      "cell_type": "code",
      "execution_count": null,
      "metadata": {
        "id": "2xMoe7wrkGRo"
      },
      "outputs": [],
      "source": [
        "\n",
        "\n",
        "class KnowledgeDataset:\n",
        "    def __init__(self, model_name=\"deepseek-ai/deepseek-llm-7b-base\",\n",
        "                 path_to_knowledge_dataset=\"datasets/\", dataset_name=\"triviaqa\"):\n",
        "\n",
        "        set_seed(42)\n",
        "        torch.manual_seed(42)\n",
        "\n",
        "        self.model_name = model_name\n",
        "        self.dataset_name = dataset_name\n",
        "\n",
        "        #Load DeepSeek tokenizer and model\n",
        "        #self.tok = AutoTokenizer.from_pretrained(self.model_name, use_fast=True)\n",
        "        self.tok = AutoTokenizer.from_pretrained(\"deepseek-ai/deepseek-llm-7b-base\", use_fast=True)\n",
        "\n",
        "        self.model = AutoModelForCausalLM.from_pretrained(\n",
        "            self.model_name,\n",
        "            torch_dtype=torch.bfloat16,\n",
        "            device_map=\"auto\",\n",
        "            offload_folder=\"./offload\"\n",
        "        )\n",
        "        self.model.generation_config = GenerationConfig.from_pretrained(self.model_name)\n",
        "        self.model.generation_config.pad_token_id = self.model.generation_config.eos_token_id\n",
        "\n",
        "        self.tok.padding_side = \"left\"\n",
        "        self.tok.pad_token = self.tok.eos_token\n",
        "\n",
        "        #Load dataset\n",
        "        if self.dataset_name == \"triviaqa\":\n",
        "            initial_dataset = self.create_initial_dataset_for_trivia_qa()\n",
        "        else:  # natural questions\n",
        "            initial_dataset = self.create_initial_dataset_for_natural_questions()\n",
        "\n",
        "        # --- Filter and save dataset ---\n",
        "        self.create_knowledge_dataset(initial_dataset, path_to_knowledge_dataset)\n",
        "\n",
        "    # --- Initial dataset loader for TriviaQA ---\n",
        "    def create_initial_dataset_for_trivia_qa(self):\n",
        "        print(\"Creating initial dataset for TriviaQA...\")\n",
        "        dataset = datasets.load_dataset(\"trivia_qa\", 'rc')\n",
        "        train = dataset[\"train\"]\n",
        "        data = []\n",
        "\n",
        "        for i, row in enumerate(train):\n",
        "            prompt = \"question: \" + row[\"question\"] + \"\\nanswer:\"\n",
        "            answer = row[\"answer\"][\"value\"]\n",
        "\n",
        "            # --- Filtering Rules ---\n",
        "            # 1. Not all uppercase (except first letter)\n",
        "            if answer.isupper() and len(answer) > 1:\n",
        "                answer = answer[0] + answer[1:].lower()\n",
        "            # 2. Must not contain \".\" or \"/\"\n",
        "            if \".\" in answer or \"/\" in answer:\n",
        "                continue\n",
        "            # 3. Must not contain digits\n",
        "            if any(char.isdigit() for char in answer):\n",
        "                continue\n",
        "            # 4. Tokenized answer must not exceed 5 tokens\n",
        "            tokens = self.tok(answer)[\"input_ids\"]\n",
        "            if len(tokens) > 5:\n",
        "                continue\n",
        "            # 5. Prompt must be unique\n",
        "            if prompt in [e[0] for e in data]:\n",
        "                continue\n",
        "\n",
        "            data.append([prompt, answer])\n",
        "\n",
        "        # Randomly sample up to 70k examples\n",
        "        data = random.sample(data, min(70000, len(data)))\n",
        "        print(f\"Finished creating initial dataset with {len(data)} examples\")\n",
        "        return data\n",
        "\n",
        "    # --- Placeholder for Natural Questions dataset ---\n",
        "    #def create_initial_dataset_for_natural_questions(self):\n",
        "        #raise NotImplementedError(\"Add your Natural Questions loader here if needed.\")\n",
        "\n",
        "    # --- Save dataset to JSONL and CSV ---\n",
        "    def create_knowledge_dataset(self, data, path):\n",
        "        os.makedirs(path, exist_ok=True)\n",
        "\n",
        "        # JSONL save\n",
        "        out_path_jsonl = f\"{path}{self.dataset_name}_filtered.jsonl\"\n",
        "        with open(out_path_jsonl, \"w\", encoding=\"utf-8\") as f:\n",
        "            for d in data:\n",
        "                json.dump({\"prompt\": d[0], \"answer\": d[1]}, f)\n",
        "                f.write(\"\\n\")\n",
        "\n",
        "        # CSV save\n",
        "        out_path_csv = f\"{path}{self.dataset_name}_filtered.csv\"\n",
        "        with open(out_path_csv, \"w\", encoding=\"utf-8\", newline=\"\") as f:\n",
        "            writer = csv.writer(f)\n",
        "            writer.writerow([\"prompt\", \"answer\"])\n",
        "            for d in data:\n",
        "                writer.writerow([d[0], d[1]])\n",
        "\n",
        "        print(f\"Knowledge dataset saved at:\\n- {out_path_jsonl}\\n- {out_path_csv}\")\n"
      ]
    },
    {
      "cell_type": "code",
      "source": [
        "knowledge_dataset = KnowledgeDataset()\n"
      ],
      "metadata": {
        "id": "VpGEZP9-kxBH",
        "collapsed": true
      },
      "execution_count": null,
      "outputs": []
    },
    {
      "cell_type": "code",
      "source": [
        "files.download(\"datasets/triviaqa_filtered.csv\")"
      ],
      "metadata": {
        "colab": {
          "base_uri": "https://localhost:8080/",
          "height": 17
        },
        "id": "z6Vwe4V1lW-p",
        "outputId": "486e2c29-c3fa-489a-a70b-93f7b406f868"
      },
      "execution_count": null,
      "outputs": [
        {
          "output_type": "display_data",
          "data": {
            "text/plain": [
              "<IPython.core.display.Javascript object>"
            ],
            "application/javascript": [
              "\n",
              "    async function download(id, filename, size) {\n",
              "      if (!google.colab.kernel.accessAllowed) {\n",
              "        return;\n",
              "      }\n",
              "      const div = document.createElement('div');\n",
              "      const label = document.createElement('label');\n",
              "      label.textContent = `Downloading \"${filename}\": `;\n",
              "      div.appendChild(label);\n",
              "      const progress = document.createElement('progress');\n",
              "      progress.max = size;\n",
              "      div.appendChild(progress);\n",
              "      document.body.appendChild(div);\n",
              "\n",
              "      const buffers = [];\n",
              "      let downloaded = 0;\n",
              "\n",
              "      const channel = await google.colab.kernel.comms.open(id);\n",
              "      // Send a message to notify the kernel that we're ready.\n",
              "      channel.send({})\n",
              "\n",
              "      for await (const message of channel.messages) {\n",
              "        // Send a message to notify the kernel that we're ready.\n",
              "        channel.send({})\n",
              "        if (message.buffers) {\n",
              "          for (const buffer of message.buffers) {\n",
              "            buffers.push(buffer);\n",
              "            downloaded += buffer.byteLength;\n",
              "            progress.value = downloaded;\n",
              "          }\n",
              "        }\n",
              "      }\n",
              "      const blob = new Blob(buffers, {type: 'application/binary'});\n",
              "      const a = document.createElement('a');\n",
              "      a.href = window.URL.createObjectURL(blob);\n",
              "      a.download = filename;\n",
              "      div.appendChild(a);\n",
              "      a.click();\n",
              "      div.remove();\n",
              "    }\n",
              "  "
            ]
          },
          "metadata": {}
        },
        {
          "output_type": "display_data",
          "data": {
            "text/plain": [
              "<IPython.core.display.Javascript object>"
            ],
            "application/javascript": [
              "download(\"download_591a6283-e142-4d98-9dbe-f92616a349c9\", \"triviaqa_filtered.csv\", 7165733)"
            ]
          },
          "metadata": {}
        }
      ]
    }
  ]
}