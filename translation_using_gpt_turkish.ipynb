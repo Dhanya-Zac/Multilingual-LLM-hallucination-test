{
  "cells": [
    {
      "cell_type": "markdown",
      "metadata": {
        "id": "view-in-github",
        "colab_type": "text"
      },
      "source": [
        "<a href=\"https://colab.research.google.com/github/Dhanya-Zac/Multilingual-LLM-hallucination-test/blob/main/translation_using_gpt_turkish.ipynb\" target=\"_parent\"><img src=\"https://colab.research.google.com/assets/colab-badge.svg\" alt=\"Open In Colab\"/></a>"
      ]
    },
    {
      "cell_type": "code",
      "execution_count": null,
      "metadata": {
        "id": "doGmyjmEXTRK"
      },
      "outputs": [],
      "source": []
    },
    {
      "cell_type": "code",
      "execution_count": 1,
      "metadata": {
        "colab": {
          "base_uri": "https://localhost:8080/"
        },
        "id": "4BplgsiI06UR",
        "outputId": "76f691ee-6f46-46ad-81cb-22616164f668"
      },
      "outputs": [
        {
          "output_type": "stream",
          "name": "stdout",
          "text": [
            "Requirement already satisfied: openai in /usr/local/lib/python3.12/dist-packages (1.101.0)\n",
            "Requirement already satisfied: pandas in /usr/local/lib/python3.12/dist-packages (2.2.2)\n",
            "Requirement already satisfied: tqdm in /usr/local/lib/python3.12/dist-packages (4.67.1)\n",
            "Requirement already satisfied: anyio<5,>=3.5.0 in /usr/local/lib/python3.12/dist-packages (from openai) (4.10.0)\n",
            "Requirement already satisfied: distro<2,>=1.7.0 in /usr/local/lib/python3.12/dist-packages (from openai) (1.9.0)\n",
            "Requirement already satisfied: httpx<1,>=0.23.0 in /usr/local/lib/python3.12/dist-packages (from openai) (0.28.1)\n",
            "Requirement already satisfied: jiter<1,>=0.4.0 in /usr/local/lib/python3.12/dist-packages (from openai) (0.10.0)\n",
            "Requirement already satisfied: pydantic<3,>=1.9.0 in /usr/local/lib/python3.12/dist-packages (from openai) (2.11.7)\n",
            "Requirement already satisfied: sniffio in /usr/local/lib/python3.12/dist-packages (from openai) (1.3.1)\n",
            "Requirement already satisfied: typing-extensions<5,>=4.11 in /usr/local/lib/python3.12/dist-packages (from openai) (4.15.0)\n",
            "Requirement already satisfied: numpy>=1.26.0 in /usr/local/lib/python3.12/dist-packages (from pandas) (2.0.2)\n",
            "Requirement already satisfied: python-dateutil>=2.8.2 in /usr/local/lib/python3.12/dist-packages (from pandas) (2.9.0.post0)\n",
            "Requirement already satisfied: pytz>=2020.1 in /usr/local/lib/python3.12/dist-packages (from pandas) (2025.2)\n",
            "Requirement already satisfied: tzdata>=2022.7 in /usr/local/lib/python3.12/dist-packages (from pandas) (2025.2)\n",
            "Requirement already satisfied: idna>=2.8 in /usr/local/lib/python3.12/dist-packages (from anyio<5,>=3.5.0->openai) (3.10)\n",
            "Requirement already satisfied: certifi in /usr/local/lib/python3.12/dist-packages (from httpx<1,>=0.23.0->openai) (2025.8.3)\n",
            "Requirement already satisfied: httpcore==1.* in /usr/local/lib/python3.12/dist-packages (from httpx<1,>=0.23.0->openai) (1.0.9)\n",
            "Requirement already satisfied: h11>=0.16 in /usr/local/lib/python3.12/dist-packages (from httpcore==1.*->httpx<1,>=0.23.0->openai) (0.16.0)\n",
            "Requirement already satisfied: annotated-types>=0.6.0 in /usr/local/lib/python3.12/dist-packages (from pydantic<3,>=1.9.0->openai) (0.7.0)\n",
            "Requirement already satisfied: pydantic-core==2.33.2 in /usr/local/lib/python3.12/dist-packages (from pydantic<3,>=1.9.0->openai) (2.33.2)\n",
            "Requirement already satisfied: typing-inspection>=0.4.0 in /usr/local/lib/python3.12/dist-packages (from pydantic<3,>=1.9.0->openai) (0.4.1)\n",
            "Requirement already satisfied: six>=1.5 in /usr/local/lib/python3.12/dist-packages (from python-dateutil>=2.8.2->pandas) (1.17.0)\n"
          ]
        }
      ],
      "source": [
        "# Install dependencies\n",
        "!pip install openai pandas tqdm"
      ]
    },
    {
      "cell_type": "code",
      "execution_count": null,
      "metadata": {
        "id": "aLMzx-jjXV1u"
      },
      "outputs": [],
      "source": []
    },
    {
      "cell_type": "code",
      "execution_count": null,
      "metadata": {
        "id": "wzK2N1BzDg2z"
      },
      "outputs": [],
      "source": [
        "# Install required libraries (if not available)\n",
        "!pip install pandas tqdm --quiet\n",
        "!pip install openai==0.28\n",
        "import openai\n",
        "import pandas as pd\n",
        "import os\n",
        "from tqdm.notebook import tqdm\n",
        "import time\n",
        "import re\n",
        "\n",
        "# --- USER CONFIGURATION ---\n",
        "API_KEY = \"\"\n",
        "MODEL = \"gpt-4o-mini\"\n",
        "CHUNK_SIZE = 1000\n",
        "INPUT_CSV = \"triviaqa.csv\"\n",
        "OUTPUT_DIR = \"translated_chunks\"\n",
        "\n",
        "\n",
        "openai.api_key = API_KEY"
      ]
    },
    {
      "cell_type": "code",
      "execution_count": 3,
      "metadata": {
        "colab": {
          "base_uri": "https://localhost:8080/"
        },
        "id": "Bgdih23PDDYN",
        "outputId": "6ce08c1f-670d-4330-b04a-134889dd5229"
      },
      "outputs": [
        {
          "output_type": "stream",
          "name": "stdout",
          "text": [
            "Loaded 64328 samples.\n"
          ]
        }
      ],
      "source": [
        "\n",
        "\n",
        "if not os.path.exists(OUTPUT_DIR):\n",
        "    os.makedirs(OUTPUT_DIR)\n",
        "\n",
        "\n",
        "df = pd.read_csv(INPUT_CSV)\n",
        "total_samples = len(df)\n",
        "\n",
        "print(f\"Loaded {total_samples} samples.\")\n",
        "\n",
        "# --- UTILITY: Detect if answer is a number (including decimals, negatives, etc.) ---\n",
        "def is_number(s):\n",
        "    if pd.isna(s):\n",
        "        return False\n",
        "    if isinstance(s, (int, float)):\n",
        "        return True\n",
        "    s = str(s).strip()\n",
        "    # Regex for integer/decimal/negative/scientific notation\n",
        "    return bool(re.fullmatch(r\"[-+]?\\d*\\.?\\d+(e[-+]?\\d+)?\", s))\n",
        "\n",
        "\n",
        "def translate_batch(prompts, answers):\n",
        "    turkish_prompts = []\n",
        "    turkish_answers = []\n",
        "    for q, a in tqdm(list(zip(prompts, answers)), desc=\"Translating\", leave=False):\n",
        "        # Translate prompt\n",
        "        prompt_q = f\"Translate the following English prompt to Turkish:\\n\\n{q}\\n\\nTurkish:\"\n",
        "        for attempt in range(5):\n",
        "            try:\n",
        "                resp_q = openai.ChatCompletion.create(\n",
        "                    model=MODEL,\n",
        "                    messages=[\n",
        "                        {\"role\": \"system\", \"content\": \"You are a helpful translation assistant.\"},\n",
        "                        {\"role\": \"user\", \"content\": prompt_q}\n",
        "                    ],\n",
        "                    temperature=0.3,\n",
        "                    max_tokens=300,\n",
        "                )\n",
        "                tq = resp_q['choices'][0]['message']['content'].strip()\n",
        "                break\n",
        "            except Exception as e:\n",
        "                print(f\"Error (Q): {e}. Retrying ({attempt+1}/5)...\")\n",
        "                time.sleep(2 + attempt*4)\n",
        "                tq = \"\"\n",
        "        turkish_prompts.append(tq)\n",
        "\n",
        "        # Answer: translate only if NOT a number\n",
        "        if is_number(a):\n",
        "            ta = a\n",
        "        else:\n",
        "            prompt_a = f\"Translate the following English answer to Turkish:\\n\\n{a}\\n\\nTurkish:\"\n",
        "            for attempt in range(5):\n",
        "                try:\n",
        "                    resp_a = openai.ChatCompletion.create(\n",
        "                        model=MODEL,\n",
        "                        messages=[\n",
        "                            {\"role\": \"system\", \"content\": \"You are a helpful translation assistant.\"},\n",
        "                            {\"role\": \"user\", \"content\": prompt_a}\n",
        "                        ],\n",
        "                        temperature=0.3,\n",
        "                        max_tokens=300,\n",
        "                    )\n",
        "                    ta = resp_a['choices'][0]['message']['content'].strip()\n",
        "                    break\n",
        "                except Exception as e:\n",
        "                    print(f\"Error (A): {e}. Retrying ({attempt+1}/5)...\")\n",
        "                    time.sleep(2 + attempt*4)\n",
        "                    ta = \"\"\n",
        "        turkish_answers.append(ta)\n",
        "    return turkish_prompts, turkish_answers\n",
        "\n",
        "\n",
        "\n"
      ]
    },
    {
      "cell_type": "code",
      "execution_count": null,
      "metadata": {
        "id": "qGUyuLNpYduY"
      },
      "outputs": [],
      "source": [
        "\n",
        "START_CHUNK = 51  # resume from chunk 11\n",
        "for i in range(START_CHUNK * CHUNK_SIZE, total_samples, CHUNK_SIZE):\n",
        "    chunk_idx = i // CHUNK_SIZE\n",
        "    chunk_df = df.iloc[i:i+CHUNK_SIZE]\n",
        "    out_file = f\"{OUTPUT_DIR}/translations_chunk_{chunk_idx:03d}.csv\"\n",
        "\n",
        "    if os.path.exists(out_file):\n",
        "        print(f\"Chunk {chunk_idx} already processed. Skipping.\")\n",
        "        continue\n",
        "\n",
        "    print(f\"Processing chunk {chunk_idx} ({i} - {min(i+CHUNK_SIZE, total_samples)})\")\n",
        "    t_prompts, t_answers = translate_batch(chunk_df[\"prompt\"], chunk_df[\"answer\"])\n",
        "    out_chunk = pd.DataFrame({\n",
        "        \"english_prompt\": chunk_df[\"prompt\"].tolist(),\n",
        "        \"english_answer\": chunk_df[\"answer\"].tolist(),\n",
        "        \"turkish_prompt\": t_prompts,\n",
        "        \"turkish_answer\": t_answers\n",
        "    })\n",
        "    out_chunk.to_csv(out_file, index=False)\n",
        "    print(f\"Saved: {out_file}\")\n",
        "\n",
        "print(\"All done!\")"
      ]
    }
  ],
  "metadata": {
    "colab": {
      "provenance": [],
      "authorship_tag": "ABX9TyOu9AmEYbpyLVZcd/+RRG7X",
      "include_colab_link": true
    },
    "kernelspec": {
      "display_name": "Python 3",
      "name": "python3"
    },
    "language_info": {
      "name": "python"
    }
  },
  "nbformat": 4,
  "nbformat_minor": 0
}